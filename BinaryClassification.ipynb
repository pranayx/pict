{
 "cells": [
  {
   "cell_type": "code",
   "execution_count": 1,
   "id": "bdaf03b9",
   "metadata": {},
   "outputs": [
    {
     "data": {
      "text/plain": [
       "'2.11.0'"
      ]
     },
     "execution_count": 1,
     "metadata": {},
     "output_type": "execute_result"
    }
   ],
   "source": [
    "import keras\n",
    "keras.__version__"
   ]
  },
  {
   "cell_type": "code",
   "execution_count": 20,
   "id": "42e1f534",
   "metadata": {},
   "outputs": [],
   "source": [
    "import numpy as np\n",
    "\n",
    "from keras import models\n",
    "from keras import layers\n",
    "from keras import optimizers\n",
    "from keras import losses\n",
    "from keras import metrics\n",
    "from keras.datasets import imdb"
   ]
  },
  {
   "cell_type": "code",
   "execution_count": 3,
   "id": "c09c3357",
   "metadata": {},
   "outputs": [
    {
     "name": "stdout",
     "output_type": "stream",
     "text": [
      "Downloading data from https://storage.googleapis.com/tensorflow/tf-keras-datasets/imdb.npz\n",
      "17464789/17464789 [==============================] - 5s 0us/step\n"
     ]
    }
   ],
   "source": [
    "(train_data, train_labels), (test_data, test_labels) = imdb.load_data(num_words=10000)"
   ]
  },
  {
   "cell_type": "code",
   "execution_count": 8,
   "id": "65adc5a7",
   "metadata": {},
   "outputs": [
    {
     "name": "stdout",
     "output_type": "stream",
     "text": [
      "Downloading data from https://storage.googleapis.com/tensorflow/tf-keras-datasets/imdb_word_index.json\n",
      "1641221/1641221 [==============================] - 1s 1us/step\n"
     ]
    }
   ],
   "source": [
    "word_index = imdb.get_word_index()\n",
    "reverse_word_index = dict([(value, key) for (key, value) in word_index.items()])\n",
    "decoded_review = ' '.join([reverse_word_index.get(i - 3, '?') for i in train_data[0]])"
   ]
  },
  {
   "cell_type": "code",
   "execution_count": 9,
   "id": "b685ee22",
   "metadata": {},
   "outputs": [
    {
     "data": {
      "text/plain": [
       "\"? this film was just brilliant casting location scenery story direction everyone's really suited the part they played and you could just imagine being there robert ? is an amazing actor and now the same being director ? father came from the same scottish island as myself so i loved the fact there was a real connection with this film the witty remarks throughout the film were great it was just brilliant so much that i bought the film as soon as it was released for ? and would recommend it to everyone to watch and the fly fishing was amazing really cried at the end it was so sad and you know what they say if you cry at a film it must have been good and this definitely was also ? to the two little boy's that played the ? of norman and paul they were just brilliant children are often left out of the ? list i think because the stars that play them all grown up are such a big profile for the whole film but these children are amazing and should be praised for what they have done don't you think the whole story was so lovely because it was true and was someone's life after all that was shared with us all\""
      ]
     },
     "execution_count": 9,
     "metadata": {},
     "output_type": "execute_result"
    }
   ],
   "source": [
    "decoded_review"
   ]
  },
  {
   "cell_type": "code",
   "execution_count": 12,
   "id": "c1ac9ee8",
   "metadata": {},
   "outputs": [],
   "source": [
    "def vectorize_sequences(sequences, dimension=10000):\n",
    "    # Create an all-zero matrix of shape (len(sequences), dimension)\n",
    "    results = np.zeros((len(sequences), dimension))\n",
    "    for i, sequence in enumerate(sequences):\n",
    "        results[i, sequence] = 1.  # set specific indices of results[i] to 1s\n",
    "    return results\n",
    "\n",
    "# Our vectorized training data\n",
    "x_train = vectorize_sequences(train_data)\n",
    "# Our vectorized test data\n",
    "x_test = vectorize_sequences(test_data)"
   ]
  },
  {
   "cell_type": "code",
   "execution_count": 13,
   "id": "2ed13257",
   "metadata": {},
   "outputs": [],
   "source": [
    "# Our vectorized labels\n",
    "y_train = np.asarray(train_labels).astype('float32')\n",
    "y_test = np.asarray(test_labels).astype('float32')"
   ]
  },
  {
   "cell_type": "code",
   "execution_count": 15,
   "id": "a4cfe58b",
   "metadata": {},
   "outputs": [],
   "source": [
    "model = models.Sequential()\n",
    "model.add(layers.Dense(16, activation='relu', input_shape=(10000,)))\n",
    "model.add(layers.Dense(16, activation='relu'))\n",
    "model.add(layers.Dense(1, activation='sigmoid'))"
   ]
  },
  {
   "cell_type": "code",
   "execution_count": 16,
   "id": "022f4b22",
   "metadata": {},
   "outputs": [],
   "source": [
    "model.compile(optimizer='rmsprop', loss='binary_crossentropy', metrics=['accuracy'])"
   ]
  },
  {
   "cell_type": "code",
   "execution_count": 19,
   "id": "db4eede2",
   "metadata": {},
   "outputs": [],
   "source": [
    "model.compile(optimizer=optimizers.RMSprop(learning_rate=0.001), loss='binary_crossentropy', metrics=['accuracy'])"
   ]
  },
  {
   "cell_type": "code",
   "execution_count": 21,
   "id": "94eea55f",
   "metadata": {},
   "outputs": [],
   "source": [
    "model.compile(optimizer=optimizers.RMSprop(lr=0.001), loss=losses.binary_crossentropy, metrics=[metrics.binary_accuracy])"
   ]
  },
  {
   "cell_type": "code",
   "execution_count": 22,
   "id": "7ecf687f",
   "metadata": {},
   "outputs": [],
   "source": [
    "x_val = x_train[:10000]\n",
    "partial_x_train = x_train[10000:]\n",
    "\n",
    "y_val = y_train[:10000]\n",
    "partial_y_train = y_train[10000:]"
   ]
  },
  {
   "cell_type": "code",
   "execution_count": 23,
   "id": "a18250d8",
   "metadata": {},
   "outputs": [
    {
     "name": "stdout",
     "output_type": "stream",
     "text": [
      "Epoch 1/20\n",
      "30/30 [==============================] - 2s 49ms/step - loss: 0.4996 - binary_accuracy: 0.8017 - val_loss: 0.3864 - val_binary_accuracy: 0.8627\n",
      "Epoch 2/20\n",
      "30/30 [==============================] - 1s 47ms/step - loss: 0.3010 - binary_accuracy: 0.9034 - val_loss: 0.3143 - val_binary_accuracy: 0.8803\n",
      "Epoch 3/20\n",
      "30/30 [==============================] - 1s 36ms/step - loss: 0.2191 - binary_accuracy: 0.9283 - val_loss: 0.2816 - val_binary_accuracy: 0.8881\n",
      "Epoch 4/20\n",
      "30/30 [==============================] - 1s 25ms/step - loss: 0.1757 - binary_accuracy: 0.9414 - val_loss: 0.2757 - val_binary_accuracy: 0.8898\n",
      "Epoch 5/20\n",
      "30/30 [==============================] - 1s 21ms/step - loss: 0.1380 - binary_accuracy: 0.9574 - val_loss: 0.2823 - val_binary_accuracy: 0.8891\n",
      "Epoch 6/20\n",
      "30/30 [==============================] - 1s 22ms/step - loss: 0.1158 - binary_accuracy: 0.9623 - val_loss: 0.3197 - val_binary_accuracy: 0.8773\n",
      "Epoch 7/20\n",
      "30/30 [==============================] - 1s 18ms/step - loss: 0.0980 - binary_accuracy: 0.9711 - val_loss: 0.3122 - val_binary_accuracy: 0.8827\n",
      "Epoch 8/20\n",
      "30/30 [==============================] - 1s 20ms/step - loss: 0.0787 - binary_accuracy: 0.9773 - val_loss: 0.3453 - val_binary_accuracy: 0.8797\n",
      "Epoch 9/20\n",
      "30/30 [==============================] - 1s 20ms/step - loss: 0.0629 - binary_accuracy: 0.9837 - val_loss: 0.3683 - val_binary_accuracy: 0.8739\n",
      "Epoch 10/20\n",
      "30/30 [==============================] - 1s 22ms/step - loss: 0.0528 - binary_accuracy: 0.9863 - val_loss: 0.3883 - val_binary_accuracy: 0.8745\n",
      "Epoch 11/20\n",
      "30/30 [==============================] - 1s 22ms/step - loss: 0.0426 - binary_accuracy: 0.9903 - val_loss: 0.4161 - val_binary_accuracy: 0.8758\n",
      "Epoch 12/20\n",
      "30/30 [==============================] - 1s 23ms/step - loss: 0.0324 - binary_accuracy: 0.9938 - val_loss: 0.4647 - val_binary_accuracy: 0.8664\n",
      "Epoch 13/20\n",
      "30/30 [==============================] - 1s 23ms/step - loss: 0.0252 - binary_accuracy: 0.9958 - val_loss: 0.4820 - val_binary_accuracy: 0.8693\n",
      "Epoch 14/20\n",
      "30/30 [==============================] - 1s 23ms/step - loss: 0.0220 - binary_accuracy: 0.9954 - val_loss: 0.5092 - val_binary_accuracy: 0.8704\n",
      "Epoch 15/20\n",
      "30/30 [==============================] - 1s 24ms/step - loss: 0.0157 - binary_accuracy: 0.9977 - val_loss: 0.5387 - val_binary_accuracy: 0.8692\n",
      "Epoch 16/20\n",
      "30/30 [==============================] - 1s 23ms/step - loss: 0.0135 - binary_accuracy: 0.9980 - val_loss: 0.5718 - val_binary_accuracy: 0.8686\n",
      "Epoch 17/20\n",
      "30/30 [==============================] - 1s 20ms/step - loss: 0.0122 - binary_accuracy: 0.9979 - val_loss: 0.6044 - val_binary_accuracy: 0.8654\n",
      "Epoch 18/20\n",
      "30/30 [==============================] - 1s 22ms/step - loss: 0.0056 - binary_accuracy: 0.9998 - val_loss: 0.6396 - val_binary_accuracy: 0.8653\n",
      "Epoch 19/20\n",
      "30/30 [==============================] - 1s 21ms/step - loss: 0.0083 - binary_accuracy: 0.9981 - val_loss: 0.6696 - val_binary_accuracy: 0.8668\n",
      "Epoch 20/20\n",
      "30/30 [==============================] - 1s 19ms/step - loss: 0.0033 - binary_accuracy: 0.9999 - val_loss: 0.8036 - val_binary_accuracy: 0.8581\n"
     ]
    }
   ],
   "source": [
    "history = model.fit(partial_x_train, partial_y_train, epochs=20, batch_size=512, validation_data=(x_val, y_val))"
   ]
  },
  {
   "cell_type": "code",
   "execution_count": 24,
   "id": "a526c8d8",
   "metadata": {},
   "outputs": [
    {
     "data": {
      "text/plain": [
       "dict_keys(['loss', 'binary_accuracy', 'val_loss', 'val_binary_accuracy'])"
      ]
     },
     "execution_count": 24,
     "metadata": {},
     "output_type": "execute_result"
    }
   ],
   "source": [
    "history_dict = history.history\n",
    "history_dict.keys()"
   ]
  },
  {
   "cell_type": "code",
   "execution_count": 26,
   "id": "fa5e9a3c",
   "metadata": {},
   "outputs": [
    {
     "data": {
      "image/png": "[encoded data removed]",
      "text/plain": [
       "<Figure size 640x480 with 1 Axes>"
      ]
     },
     "metadata": {},
     "output_type": "display_data"
    }
   ],
   "source": [
    "import matplotlib.pyplot as plt\n",
    "\n",
    "acc = history.history['binary_accuracy']\n",
    "val_acc = history.history['val_binary_accuracy']\n",
    "loss = history.history['loss']\n",
    "val_loss = history.history['val_loss']\n",
    "\n",
    "epochs = range(1, len(acc) + 1)\n",
    "\n",
    "# \"bo\" is for \"blue dot\"\n",
    "plt.plot(epochs, loss, 'bo', label='Training loss')\n",
    "# b is for \"solid blue line\"\n",
    "plt.plot(epochs, val_loss, 'b', label='Validation loss')\n",
    "plt.title('Training and validation loss')\n",
    "plt.xlabel('Epochs')\n",
    "plt.ylabel('Loss')\n",
    "plt.legend()\n",
    "\n",
    "plt.show()"
   ]
  },
  {
   "cell_type": "code",
   "execution_count": 28,
   "id": "7a03babf",
   "metadata": {},
   "outputs": [
    {
     "data": {
      "image/png": "[encoded data removed]",
      "text/plain": [
       "<Figure size 640x480 with 1 Axes>"
      ]
     },
     "metadata": {},
     "output_type": "display_data"
    }
   ],
   "source": [
    "plt.clf()   # clear figure\n",
    "acc_values = history_dict['binary_accuracy']\n",
    "val_acc_values = history_dict['val_binary_accuracy']\n",
    "\n",
    "plt.plot(epochs, acc, 'bo', label='Training acc')\n",
    "plt.plot(epochs, val_acc, 'b', label='Validation acc')\n",
    "plt.title('Training and validation accuracy')\n",
    "plt.xlabel('Epochs')\n",
    "plt.ylabel('Loss')\n",
    "plt.legend()\n",
    "\n",
    "plt.show()"
   ]
  },
  {
   "cell_type": "code",
   "execution_count": 29,
   "id": "d0f4d203",
   "metadata": {},
   "outputs": [
    {
     "name": "stdout",
     "output_type": "stream",
     "text": [
      "Epoch 1/4\n",
      "49/49 [==============================] - 1s 14ms/step - loss: 0.4602 - accuracy: 0.8112\n",
      "Epoch 2/4\n",
      "49/49 [==============================] - 1s 15ms/step - loss: 0.2723 - accuracy: 0.9036\n",
      "Epoch 3/4\n",
      "49/49 [==============================] - 1s 13ms/step - loss: 0.2147 - accuracy: 0.9201\n",
      "Epoch 4/4\n",
      "49/49 [==============================] - 1s 15ms/step - loss: 0.1800 - accuracy: 0.9359\n",
      "782/782 [==============================] - 3s 4ms/step - loss: 0.2864 - accuracy: 0.8867\n"
     ]
    }
   ],
   "source": [
    "model = models.Sequential()\n",
    "model.add(layers.Dense(16, activation='relu', input_shape=(10000,)))\n",
    "model.add(layers.Dense(16, activation='relu'))\n",
    "model.add(layers.Dense(1, activation='sigmoid'))\n",
    "\n",
    "model.compile(optimizer='rmsprop',\n",
    "              loss='binary_crossentropy',\n",
    "              metrics=['accuracy'])\n",
    "\n",
    "model.fit(x_train, y_train, epochs=4, batch_size=512)\n",
    "results = model.evaluate(x_test, y_test)"
   ]
  },
  {
   "cell_type": "code",
   "execution_count": 30,
   "id": "260526b9",
   "metadata": {},
   "outputs": [
    {
     "data": {
      "text/plain": [
       "[0.2864058315753937, 0.886680006980896]"
      ]
     },
     "execution_count": 30,
     "metadata": {},
     "output_type": "execute_result"
    }
   ],
   "source": [
    "results"
   ]
  },
  {
   "cell_type": "code",
   "execution_count": 31,
   "id": "4866ccb3",
   "metadata": {},
   "outputs": [
    {
     "name": "stdout",
     "output_type": "stream",
     "text": [
      "782/782 [==============================] - 2s 2ms/step\n"
     ]
    },
    {
     "data": {
      "text/plain": [
       "array([[0.19456068],\n",
       "       [0.99918157],\n",
       "       [0.8034675 ],\n",
       "       ...,\n",
       "       [0.09441707],\n",
       "       [0.11285134],\n",
       "       [0.5017985 ]], dtype=float32)"
      ]
     },
     "execution_count": 31,
     "metadata": {},
     "output_type": "execute_result"
    }
   ],
   "source": [
    "model.predict(x_test)"
   ]
  },
  {
   "cell_type": "code",
   "execution_count": null,
   "id": "486ddaae",
   "metadata": {},
   "outputs": [],
   "source": []
  }
 ],
 "metadata": {
  "kernelspec": {
   "display_name": "base",
   "language": "python",
   "name": "python3"
  },
  "language_info": {
   "codemirror_mode": {
    "name": "ipython",
    "version": 3
   },
   "file_extension": ".py",
   "mimetype": "text/x-python",
   "name": "python",
   "nbconvert_exporter": "python",
   "pygments_lexer": "ipython3",
   "version": "3.9.13"
  }
 },
 "nbformat": 4,
 "nbformat_minor": 5
}
